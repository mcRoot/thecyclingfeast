{
 "cells": [
  {
   "cell_type": "markdown",
   "metadata": {},
   "source": [
    "# Collecting Segment's Data from Strava\n",
    "\n",
    "Exploiting the Strava API, data regarding segments of Italy's top climbs is collected.\n",
    "\n",
    "Italy territory is ideally divided in squares of 0.1 degrees of latitude and 0.1 degrees of longitute: for each of these squares, via exploitation of Strava's API segments explorer, the best 10 segments are requested. "
   ]
  },
  {
   "cell_type": "code",
   "execution_count": 2,
   "metadata": {
    "collapsed": true
   },
   "outputs": [],
   "source": [
    "import requests\n",
    "import time\n",
    "import pandas as pd\n",
    "import numpy as np\n",
    "import os\n",
    "\n",
    "# Configure OAuth2 access token for authorization: strava_oauth\n",
    "access_token = os.environ.get('STRAVA_API_KEY', '') #please configure this env var with your STRAVA API KEY\n",
    "\n",
    "# Strava base url\n",
    "base_url = 'https://www.strava.com/api/v3'\n",
    "\n",
    "#headers\n",
    "headers = {'Authorization': 'Bearer ' + access_token}\n",
    "\n",
    "#short term limit min * sec (num sec)\n",
    "short_term_limit = 15 * 60\n",
    "max_no_req_short = 600\n",
    "delay_short = short_term_limit / max_no_req_short"
   ]
  },
  {
   "cell_type": "code",
   "execution_count": 6,
   "metadata": {
    "collapsed": true
   },
   "outputs": [],
   "source": [
    "#no of segments to loads (batch of 10)\n",
    "num_batches = 1000"
   ]
  },
  {
   "cell_type": "code",
   "execution_count": 7,
   "metadata": {
    "collapsed": true
   },
   "outputs": [],
   "source": [
    "#Explore segments on a given geographical area\n",
    "endpoint = '/segments/explore'"
   ]
  },
  {
   "cell_type": "markdown",
   "metadata": {},
   "source": [
    "# Italy Latitude and longitude\n",
    "* Northernmost point — Testa Gemella Occidentale/Westliches Zwillingsköpfl, Prettau (Predoi), South Tyrol at 47°5′N 12°11′E\n",
    "* Southernmost point — Punta Pesce Spada, Lampedusa, Sicily at 35°29′N 12°36′E (whole territory); Capo Spartivento, Palizzi, Calabria at 37°55′N 15°59′E (mainland)\n",
    "* Westernmost point — Rocca Bernauda, Bardonecchia, Piedmont at 45°6′N 6°37′E\n",
    "* Easternmost point — Capo d'Otranto, Otranto, Apulia at 40°6′N 18°31′E"
   ]
  },
  {
   "cell_type": "code",
   "execution_count": 8,
   "metadata": {
    "collapsed": true
   },
   "outputs": [],
   "source": [
    "def extract_segment_id(segments):\n",
    "    ids = []\n",
    "    for s in segments:\n",
    "        ids.append(s[\"id\"])\n",
    "    return ids"
   ]
  },
  {
   "cell_type": "code",
   "execution_count": 3,
   "metadata": {
    "collapsed": true
   },
   "outputs": [],
   "source": [
    "min_lat = 35.48333333\n",
    "max_lat = 47.5\n",
    "min_lng = 6.37\n",
    "max_lng = 18.31\n",
    "lats = np.arange(min_lat, max_lat + 0.1, 0.1)\n",
    "lngs = np.arange(min_lng, max_lng + 0.1, 0.1)"
   ]
  },
  {
   "cell_type": "code",
   "execution_count": 9,
   "metadata": {},
   "outputs": [
    {
     "name": "stdout",
     "output_type": "stream",
     "text": [
      "https://www.strava.com/api/v3/segments/explore\n",
      "boundaries 47.28333333000017,18.16999999999996,47.38333333000017,18.26999999999996\n",
      "Found segments (current/total): 1/1\n"
     ]
    },
    {
     "ename": "KeyboardInterrupt",
     "evalue": "",
     "output_type": "error",
     "traceback": [
      "\u001b[0;31m---------------------------------------------------------\u001b[0m",
      "\u001b[0;31mKeyboardInterrupt\u001b[0m       Traceback (most recent call last)",
      "\u001b[0;32m<ipython-input-9-0387bb880e38>\u001b[0m in \u001b[0;36m<module>\u001b[0;34m()\u001b[0m\n\u001b[1;32m     16\u001b[0m \u001b[0;32mfor\u001b[0m \u001b[0mlat1\u001b[0m\u001b[0;34m,\u001b[0m \u001b[0mlat2\u001b[0m \u001b[0;32min\u001b[0m \u001b[0mzip\u001b[0m\u001b[0;34m(\u001b[0m\u001b[0mlats\u001b[0m\u001b[0;34m[\u001b[0m\u001b[0;34m:\u001b[0m\u001b[0;34m:\u001b[0m\u001b[0;36m2\u001b[0m\u001b[0;34m]\u001b[0m\u001b[0;34m,\u001b[0m \u001b[0mlats\u001b[0m\u001b[0;34m[\u001b[0m\u001b[0;36m1\u001b[0m\u001b[0;34m:\u001b[0m\u001b[0;34m:\u001b[0m\u001b[0;36m2\u001b[0m\u001b[0;34m]\u001b[0m\u001b[0;34m)\u001b[0m\u001b[0;34m:\u001b[0m\u001b[0;34m\u001b[0m\u001b[0m\n\u001b[1;32m     17\u001b[0m     \u001b[0;32mfor\u001b[0m \u001b[0mlng1\u001b[0m\u001b[0;34m,\u001b[0m \u001b[0mlng2\u001b[0m \u001b[0;32min\u001b[0m \u001b[0mzip\u001b[0m\u001b[0;34m(\u001b[0m\u001b[0mlngs\u001b[0m\u001b[0;34m[\u001b[0m\u001b[0;34m:\u001b[0m\u001b[0;34m:\u001b[0m\u001b[0;36m2\u001b[0m\u001b[0;34m]\u001b[0m\u001b[0;34m,\u001b[0m \u001b[0mlngs\u001b[0m\u001b[0;34m[\u001b[0m\u001b[0;36m1\u001b[0m\u001b[0;34m:\u001b[0m\u001b[0;34m:\u001b[0m\u001b[0;36m2\u001b[0m\u001b[0;34m]\u001b[0m\u001b[0;34m)\u001b[0m\u001b[0;34m:\u001b[0m\u001b[0;34m\u001b[0m\u001b[0m\n\u001b[0;32m---> 18\u001b[0;31m         \u001b[0mtime\u001b[0m\u001b[0;34m.\u001b[0m\u001b[0msleep\u001b[0m\u001b[0;34m(\u001b[0m\u001b[0mdelay_short\u001b[0m \u001b[0;34m+\u001b[0m \u001b[0;36m1\u001b[0m\u001b[0;34m)\u001b[0m\u001b[0;34m\u001b[0m\u001b[0m\n\u001b[0m\u001b[1;32m     19\u001b[0m         \u001b[0mboundaries\u001b[0m \u001b[0;34m=\u001b[0m \u001b[0;34m\"{},{},{},{}\"\u001b[0m\u001b[0;34m.\u001b[0m\u001b[0mformat\u001b[0m\u001b[0;34m(\u001b[0m\u001b[0mlat1\u001b[0m\u001b[0;34m,\u001b[0m \u001b[0mlng1\u001b[0m\u001b[0;34m,\u001b[0m \u001b[0mlat2\u001b[0m\u001b[0;34m,\u001b[0m \u001b[0mlng2\u001b[0m\u001b[0;34m)\u001b[0m\u001b[0;34m\u001b[0m\u001b[0m\n\u001b[1;32m     20\u001b[0m         \u001b[0mprint\u001b[0m\u001b[0;34m(\u001b[0m\u001b[0;34m\"boundaries \"\u001b[0m \u001b[0;34m+\u001b[0m \u001b[0mboundaries\u001b[0m\u001b[0;34m)\u001b[0m\u001b[0;34m\u001b[0m\u001b[0m\n",
      "\u001b[0;31mKeyboardInterrupt\u001b[0m: "
     ]
    }
   ],
   "source": [
    "#bounds: ‘sw.lat,sw.lng,ne.lat,ne.lng’ ‘south,west,north,east’\n",
    "payload = {'activity_type': 'riding', 'bounds': \"\", \"min_cat\": 1, \"max_cat\": 5}\n",
    "print(base_url + endpoint)\n",
    "\n",
    "df_segments = pd.DataFrame()\n",
    "seg_indexes = []\n",
    "no_found = 0\n",
    "batch_no = 11\n",
    "for lat1, lat2 in zip(lats[::2], lats[1::2]):\n",
    "    for lng1, lng2 in zip(lngs[::2], lngs[1::2]):\n",
    "        time.sleep(delay_short + 1)\n",
    "        boundaries = \"{},{},{},{}\".format(lat1, lng1, lat2, lng2)\n",
    "        print(\"boundaries \" + boundaries)\n",
    "        payload[\"bounds\"] = boundaries\n",
    "        r = requests.get(base_url + endpoint, data = payload, headers=headers)\n",
    "        segments = r.json()[\"segments\"]\n",
    "        seg_indexes = extract_segment_id(segments)\n",
    "        no_found += len(seg_indexes)\n",
    "        print(\"Found segments (current/total): {}/{}\".format(len(seg_indexes), no_found))\n",
    "        df = pd.DataFrame(segments, index=seg_indexes)\n",
    "        df_segments = df_segments.append(df, verify_integrity=True)\n",
    "        #saving partial results \n",
    "        if (no_found >= num_batches):\n",
    "            no_found = 0\n",
    "            df_segments.to_csv(path_or_buf=\"strava-segments-detailed-updated-{}.csv\".format(batch_no),index=True)\n",
    "            batch_no += 1\n",
    "            df_segments = pd.DataFrame()\n",
    "#save segments\n",
    "df_segments.to_csv(path_or_buf=\"strava-segments-detailed-updated-{}.csv\".format(batch_no),index=True)    "
   ]
  },
  {
   "cell_type": "code",
   "execution_count": 16,
   "metadata": {
    "collapsed": true
   },
   "outputs": [],
   "source": [
    "segments_def = pd.DataFrame()\n",
    "for i in range(0, batch_no):\n",
    "    segments_def = segments_def.append(pd.read_csv(\"strava-segments-detailed-updated-{}.csv\".format(i), index_col=0))"
   ]
  },
  {
   "cell_type": "code",
   "execution_count": 19,
   "metadata": {
    "collapsed": true
   },
   "outputs": [],
   "source": [
    "#remove possibile duplicates even though unlikely\n",
    "segments_def = segments_def[~segments_def.index.duplicated(keep='first')]"
   ]
  },
  {
   "cell_type": "code",
   "execution_count": 23,
   "metadata": {
    "collapsed": true
   },
   "outputs": [],
   "source": [
    "segments_def.to_csv(path_or_buf=\"strava-segments-italy-full.csv\".format(batch_no),index=True)    "
   ]
  }
 ],
 "metadata": {
  "kernelspec": {
   "display_name": "Python 3",
   "language": "python",
   "name": "python3"
  },
  "language_info": {
   "codemirror_mode": {
    "name": "ipython",
    "version": 3
   },
   "file_extension": ".py",
   "mimetype": "text/x-python",
   "name": "python",
   "nbconvert_exporter": "python",
   "pygments_lexer": "ipython3",
   "version": "3.6.2"
  }
 },
 "nbformat": 4,
 "nbformat_minor": 2
}
