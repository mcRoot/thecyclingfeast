{
 "cells": [
  {
   "cell_type": "code",
   "execution_count": 45,
   "metadata": {
    "collapsed": true
   },
   "outputs": [],
   "source": [
    "import pandas as pd\n",
    "import numpy as np"
   ]
  },
  {
   "cell_type": "code",
   "execution_count": 46,
   "metadata": {
    "collapsed": true
   },
   "outputs": [],
   "source": [
    "import requests\n",
    "\n",
    "class GeoCodeClient:\n",
    "    def __init__(self, url=\"https://nominatim.openstreetmap.org/\"):\n",
    "        self.url = url + \"{}\"\n",
    "\n",
    "    def reverse_geocode(self, lat=0, lon=0):\n",
    "        params = {'format': 'json',\n",
    "                  'lat': lat,\n",
    "                  'addressdetails': 1,\n",
    "                  'lon': lon}\n",
    "        resp = requests.get(self.url.format(\"reverse\"), params=params)\n",
    "        if not resp.ok:\n",
    "            raise ConnectionError(\"Error connecting to openstreetmap code {}\".format(resp.status_code))\n",
    "        body = resp.json()\n",
    "        address = body[\"address\"]\n",
    "        return address\n",
    "    \n",
    "class GeoLocation:\n",
    "\n",
    "    def __init__(self, country_code=None, name=None):\n",
    "        self.country_code = country_code\n",
    "        self.name = name\n",
    "\n",
    "    def __repr__(self):\n",
    "        return \"['{}', '{}']\".format(self.name, self.country_code)\n",
    "    \n",
    "class OpenStreetMapManager:\n",
    "\n",
    "    def __init__(self, base_url=\"https://nominatim.openstreetmap.org/\"):\n",
    "        self.url = base_url\n",
    "        self.client = GeoCodeClient(self.url)\n",
    "\n",
    "    def find_location_byname(self, lat=None, lon=None):\n",
    "        if lat is None or lon is None:\n",
    "            raise ValueError(\"Both lat and lon are mandatory\")\n",
    "        address = self.client.reverse_geocode(lat, lon)\n",
    "        name = None\n",
    "        if \"village\" in address:\n",
    "            name = address[\"village\"]\n",
    "        elif \"town\" in address:\n",
    "            name = address[\"town\"]\n",
    "        elif \"city\" in address:\n",
    "            name = address[\"city\"]\n",
    "        else:\n",
    "            print(\"Undefined: {}\".format(address))\n",
    "            name = \"Undefined\"\n",
    "        country_code = address[\"country_code\"]\n",
    "        return [country_code, name]"
   ]
  },
  {
   "cell_type": "code",
   "execution_count": 47,
   "metadata": {
    "collapsed": true
   },
   "outputs": [],
   "source": [
    "segments = pd.read_csv(\"../dataset/strava-segments-italy-FINAL.csv\")"
   ]
  },
  {
   "cell_type": "code",
   "execution_count": 48,
   "metadata": {
    "collapsed": true
   },
   "outputs": [],
   "source": [
    "segments[[\"s_lat\", \"s_lng\"]] = segments[\"start_latlng\"].apply(lambda x: pd.Series(np.array(eval(x))))\n",
    "segments[[\"e_lat\", \"e_lng\"]] = segments[\"end_latlng\"].apply(lambda x: pd.Series(np.array(eval(x))))"
   ]
  },
  {
   "cell_type": "code",
   "execution_count": 10,
   "metadata": {
    "collapsed": true
   },
   "outputs": [],
   "source": [
    "import time\n",
    "\n",
    "manager = OpenStreetMapManager()\n",
    "def extract_location(row):\n",
    "    time.sleep(0.8)\n",
    "    return manager.find_location_byname(row[\"s_lat\"], row[\"s_lng\"])"
   ]
  },
  {
   "cell_type": "code",
   "execution_count": null,
   "metadata": {
    "collapsed": true
   },
   "outputs": [],
   "source": [
    "segments[[\"country_code\", \"loc_name\"]] = segments[[\"s_lat\", \"s_lng\"]].apply(extract_location, axis=1)"
   ]
  },
  {
   "cell_type": "code",
   "execution_count": 14,
   "metadata": {
    "collapsed": true
   },
   "outputs": [],
   "source": [
    "segments.to_csv(path_or_buf=\"../dataset/strava-segments-italy-FINAL-GEOCODED.csv\",index=True)    "
   ]
  },
  {
   "cell_type": "markdown",
   "metadata": {},
   "source": [
    "Now we are going to leave out segments with country_code different than \"it\""
   ]
  },
  {
   "cell_type": "code",
   "execution_count": 49,
   "metadata": {
    "collapsed": true
   },
   "outputs": [],
   "source": [
    "segments = pd.read_csv(\"../dataset/strava-segments-italy-FINAL-GEOCODED.csv\")"
   ]
  },
  {
   "cell_type": "code",
   "execution_count": 51,
   "metadata": {},
   "outputs": [],
   "source": [
    "segments_italy = segments[segments.country_code == \"it\"]"
   ]
  },
  {
   "cell_type": "code",
   "execution_count": 54,
   "metadata": {},
   "outputs": [],
   "source": [
    "segments_italy.to_csv(path_or_buf=\"../dataset/strava-segments-italy_only-FINAL-GEOCODED.csv\",index=True)    "
   ]
  }
 ],
 "metadata": {
  "kernelspec": {
   "display_name": "Python 3",
   "language": "python",
   "name": "python3"
  },
  "language_info": {
   "codemirror_mode": {
    "name": "ipython",
    "version": 3
   },
   "file_extension": ".py",
   "mimetype": "text/x-python",
   "name": "python",
   "nbconvert_exporter": "python",
   "pygments_lexer": "ipython3",
   "version": "3.6.2"
  }
 },
 "nbformat": 4,
 "nbformat_minor": 2
}
