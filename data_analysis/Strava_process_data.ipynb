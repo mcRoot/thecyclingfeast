{
 "cells": [
  {
   "cell_type": "code",
   "execution_count": 1,
   "metadata": {
    "_uuid": "782d8c6c46116592b18d1a584bd50ef3d92cc13c",
    "collapsed": true
   },
   "outputs": [],
   "source": [
    "import pandas as pd\n",
    "import matplotlib.pyplot as plt\n",
    "import numpy as np\n",
    "from datetime import datetime"
   ]
  },
  {
   "cell_type": "code",
   "execution_count": 46,
   "metadata": {
    "_uuid": "0df266e357f60e5cc2acb4a40418652c26fec7dd",
    "collapsed": true
   },
   "outputs": [],
   "source": [
    "segments = pd.read_csv(\"../dataset/strava-segments-italy-FINAL.csv\")"
   ]
  },
  {
   "cell_type": "code",
   "execution_count": 47,
   "metadata": {
    "_uuid": "89b84561c54d63382971ae093de0afde422a00a8",
    "collapsed": true
   },
   "outputs": [],
   "source": [
    "segments[[\"s_lat\", \"s_lng\"]] = segments[\"start_latlng\"].apply(lambda x: pd.Series(np.array(eval(x))))"
   ]
  },
  {
   "cell_type": "code",
   "execution_count": 48,
   "metadata": {
    "_uuid": "a66ac8e033e1d7e5a11af8cca0e862a3334060c6",
    "collapsed": true
   },
   "outputs": [],
   "source": [
    "segments[[\"e_lat\", \"e_lng\"]] = segments[\"end_latlng\"].apply(lambda x: pd.Series(np.array(eval(x))))"
   ]
  },
  {
   "cell_type": "code",
   "execution_count": 49,
   "metadata": {
    "collapsed": true
   },
   "outputs": [],
   "source": [
    "segments = segments.drop(columns=[\"start_latlng\", \"end_latlng\"])"
   ]
  },
  {
   "cell_type": "code",
   "execution_count": 53,
   "metadata": {},
   "outputs": [],
   "source": [
    "segments.drop(\"Unnamed: 0\", axis=1, inplace=True)"
   ]
  },
  {
   "cell_type": "code",
   "execution_count": 54,
   "metadata": {},
   "outputs": [],
   "source": [
    "segments.to_csv(path_or_buf=\"../dataset/segments-italy-full-preprocessed.csv\", index=True)"
   ]
  },
  {
   "cell_type": "code",
   "execution_count": 5,
   "metadata": {
    "_uuid": "74efa12e981a334615097aeeef07bac9a09370d5",
    "collapsed": true
   },
   "outputs": [],
   "source": [
    "activities = pd.read_csv(\"../dataset/strava-activities-italy-full-FINAL.csv\")"
   ]
  },
  {
   "cell_type": "code",
   "execution_count": 6,
   "metadata": {
    "_uuid": "00286953128cc47df85540a96bd574bfc44aed26",
    "collapsed": true
   },
   "outputs": [],
   "source": [
    "activities.drop(\"Unnamed: 0\", axis=1, inplace=True)\n",
    "activities.drop(\"Unnamed: 0.1\", axis=1, inplace=True)"
   ]
  },
  {
   "cell_type": "code",
   "execution_count": 7,
   "metadata": {
    "_uuid": "6811db0263c87d926ca9979aefd4bdc954bd620d",
    "collapsed": true
   },
   "outputs": [],
   "source": [
    "activities = activities.dropna()"
   ]
  },
  {
   "cell_type": "code",
   "execution_count": 8,
   "metadata": {
    "_uuid": "1698ff0ebdd02295bc598ae68a033092f2db03be",
    "collapsed": true
   },
   "outputs": [],
   "source": [
    "activities[\"segment\"] = activities[\"segment\"].astype(int, copy=True)"
   ]
  },
  {
   "cell_type": "code",
   "execution_count": 9,
   "metadata": {
    "_uuid": "10ca07b3428dd24d1f3dce1822959822a9e82443"
   },
   "outputs": [
    {
     "data": {
      "text/plain": [
       "Series([], Name: start_date, dtype: object)"
      ]
     },
     "execution_count": 9,
     "metadata": {},
     "output_type": "execute_result"
    }
   ],
   "source": [
    "activities[activities[\"start_date\"].isnull()][\"start_date\"]"
   ]
  },
  {
   "cell_type": "code",
   "execution_count": 10,
   "metadata": {
    "collapsed": true
   },
   "outputs": [],
   "source": [
    "indexes_with_wrong_dates = activities[activities[\"start_date\"].str.match(r\"[234][1-9]\\d\\d-*\")].index"
   ]
  },
  {
   "cell_type": "code",
   "execution_count": 11,
   "metadata": {
    "collapsed": true
   },
   "outputs": [],
   "source": [
    "activities.drop(indexes_with_wrong_dates, inplace=True)"
   ]
  },
  {
   "cell_type": "code",
   "execution_count": 12,
   "metadata": {
    "collapsed": true
   },
   "outputs": [],
   "source": [
    "indexes_with_wrong_dates = activities[activities[\"start_date\"].str.match(r\"[4]\\d\\d\\d-*\")].index"
   ]
  },
  {
   "cell_type": "code",
   "execution_count": 13,
   "metadata": {
    "collapsed": true
   },
   "outputs": [],
   "source": [
    "activities.drop(indexes_with_wrong_dates, inplace=True)"
   ]
  },
  {
   "cell_type": "code",
   "execution_count": 15,
   "metadata": {
    "collapsed": true
   },
   "outputs": [],
   "source": [
    "activities[\"start_date\"] = pd.to_datetime(activities[\"start_date\"])"
   ]
  },
  {
   "cell_type": "code",
   "execution_count": 17,
   "metadata": {
    "collapsed": true
   },
   "outputs": [],
   "source": [
    " activities[\"Year\"] = activities[\"start_date\"].dt.year"
   ]
  },
  {
   "cell_type": "code",
   "execution_count": 19,
   "metadata": {
    "collapsed": true
   },
   "outputs": [],
   "source": [
    " activities[\"Month\"] = activities[\"start_date\"].dt.month"
   ]
  },
  {
   "cell_type": "code",
   "execution_count": 20,
   "metadata": {
    "collapsed": true
   },
   "outputs": [],
   "source": [
    " activities[\"Day\"] = activities[\"start_date\"].dt.day"
   ]
  },
  {
   "cell_type": "code",
   "execution_count": 25,
   "metadata": {
    "collapsed": true
   },
   "outputs": [],
   "source": [
    " activities[\"Dow\"] = activities[\"start_date\"].dt.dayofweek"
   ]
  },
  {
   "cell_type": "code",
   "execution_count": 31,
   "metadata": {
    "_uuid": "0d854a86524b503194511465507114070c69d35f",
    "collapsed": true
   },
   "outputs": [],
   "source": [
    "activities_parsed = pd.merge(activities, segments, left_on=\"segment\", right_on=\"id\").drop([\"id\", \"points\", \"start_latlng\", \"end_latlng\"], axis=1)"
   ]
  },
  {
   "cell_type": "code",
   "execution_count": 32,
   "metadata": {},
   "outputs": [
    {
     "data": {
      "text/html": [
       "<div>\n",
       "<style scoped>\n",
       "    .dataframe tbody tr th:only-of-type {\n",
       "        vertical-align: middle;\n",
       "    }\n",
       "\n",
       "    .dataframe tbody tr th {\n",
       "        vertical-align: top;\n",
       "    }\n",
       "\n",
       "    .dataframe thead th {\n",
       "        text-align: right;\n",
       "    }\n",
       "</style>\n",
       "<table border=\"1\" class=\"dataframe\">\n",
       "  <thead>\n",
       "    <tr style=\"text-align: right;\">\n",
       "      <th></th>\n",
       "      <th>athlete_name</th>\n",
       "      <th>elapsed_time</th>\n",
       "      <th>moving_time</th>\n",
       "      <th>rank</th>\n",
       "      <th>start_date</th>\n",
       "      <th>start_date_local</th>\n",
       "      <th>segment</th>\n",
       "      <th>Year</th>\n",
       "      <th>Month</th>\n",
       "      <th>Day</th>\n",
       "      <th>...</th>\n",
       "      <th>climb_category_desc</th>\n",
       "      <th>distance</th>\n",
       "      <th>elev_difference</th>\n",
       "      <th>name</th>\n",
       "      <th>resource_state</th>\n",
       "      <th>starred</th>\n",
       "      <th>s_lat</th>\n",
       "      <th>s_lng</th>\n",
       "      <th>e_lat</th>\n",
       "      <th>e_lng</th>\n",
       "    </tr>\n",
       "  </thead>\n",
       "  <tbody>\n",
       "    <tr>\n",
       "      <th>0</th>\n",
       "      <td>Dan B.</td>\n",
       "      <td>275</td>\n",
       "      <td>275</td>\n",
       "      <td>1</td>\n",
       "      <td>2013-04-05 08:49:39</td>\n",
       "      <td>2013-04-05T10:49:39Z</td>\n",
       "      <td>2390852</td>\n",
       "      <td>2013</td>\n",
       "      <td>4</td>\n",
       "      <td>5</td>\n",
       "      <td>...</td>\n",
       "      <td>4</td>\n",
       "      <td>2069.3</td>\n",
       "      <td>107.4</td>\n",
       "      <td>San Martin</td>\n",
       "      <td>2</td>\n",
       "      <td>False</td>\n",
       "      <td>35.940484</td>\n",
       "      <td>14.376255</td>\n",
       "      <td>35.927646</td>\n",
       "      <td>14.377224</td>\n",
       "    </tr>\n",
       "    <tr>\n",
       "      <th>1</th>\n",
       "      <td>Etienne B.</td>\n",
       "      <td>276</td>\n",
       "      <td>276</td>\n",
       "      <td>2</td>\n",
       "      <td>2013-04-05 08:49:41</td>\n",
       "      <td>2013-04-05T10:49:41Z</td>\n",
       "      <td>2390852</td>\n",
       "      <td>2013</td>\n",
       "      <td>4</td>\n",
       "      <td>5</td>\n",
       "      <td>...</td>\n",
       "      <td>4</td>\n",
       "      <td>2069.3</td>\n",
       "      <td>107.4</td>\n",
       "      <td>San Martin</td>\n",
       "      <td>2</td>\n",
       "      <td>False</td>\n",
       "      <td>35.940484</td>\n",
       "      <td>14.376255</td>\n",
       "      <td>35.927646</td>\n",
       "      <td>14.377224</td>\n",
       "    </tr>\n",
       "    <tr>\n",
       "      <th>2</th>\n",
       "      <td>James M.</td>\n",
       "      <td>287</td>\n",
       "      <td>287</td>\n",
       "      <td>3</td>\n",
       "      <td>2014-04-04 08:28:23</td>\n",
       "      <td>2014-04-04T10:28:23Z</td>\n",
       "      <td>2390852</td>\n",
       "      <td>2014</td>\n",
       "      <td>4</td>\n",
       "      <td>4</td>\n",
       "      <td>...</td>\n",
       "      <td>4</td>\n",
       "      <td>2069.3</td>\n",
       "      <td>107.4</td>\n",
       "      <td>San Martin</td>\n",
       "      <td>2</td>\n",
       "      <td>False</td>\n",
       "      <td>35.940484</td>\n",
       "      <td>14.376255</td>\n",
       "      <td>35.927646</td>\n",
       "      <td>14.377224</td>\n",
       "    </tr>\n",
       "    <tr>\n",
       "      <th>3</th>\n",
       "      <td>Tom B.</td>\n",
       "      <td>288</td>\n",
       "      <td>288</td>\n",
       "      <td>4</td>\n",
       "      <td>2014-04-04 08:28:26</td>\n",
       "      <td>2014-04-04T10:28:26Z</td>\n",
       "      <td>2390852</td>\n",
       "      <td>2014</td>\n",
       "      <td>4</td>\n",
       "      <td>4</td>\n",
       "      <td>...</td>\n",
       "      <td>4</td>\n",
       "      <td>2069.3</td>\n",
       "      <td>107.4</td>\n",
       "      <td>San Martin</td>\n",
       "      <td>2</td>\n",
       "      <td>False</td>\n",
       "      <td>35.940484</td>\n",
       "      <td>14.376255</td>\n",
       "      <td>35.927646</td>\n",
       "      <td>14.377224</td>\n",
       "    </tr>\n",
       "    <tr>\n",
       "      <th>4</th>\n",
       "      <td>Corrado C.</td>\n",
       "      <td>290</td>\n",
       "      <td>290</td>\n",
       "      <td>5</td>\n",
       "      <td>2014-04-04 08:28:25</td>\n",
       "      <td>2014-04-04T10:28:25Z</td>\n",
       "      <td>2390852</td>\n",
       "      <td>2014</td>\n",
       "      <td>4</td>\n",
       "      <td>4</td>\n",
       "      <td>...</td>\n",
       "      <td>4</td>\n",
       "      <td>2069.3</td>\n",
       "      <td>107.4</td>\n",
       "      <td>San Martin</td>\n",
       "      <td>2</td>\n",
       "      <td>False</td>\n",
       "      <td>35.940484</td>\n",
       "      <td>14.376255</td>\n",
       "      <td>35.927646</td>\n",
       "      <td>14.377224</td>\n",
       "    </tr>\n",
       "  </tbody>\n",
       "</table>\n",
       "<p>5 rows × 24 columns</p>\n",
       "</div>"
      ],
      "text/plain": [
       "  athlete_name  elapsed_time  moving_time  rank          start_date  \\\n",
       "0       Dan B.           275          275     1 2013-04-05 08:49:39   \n",
       "1   Etienne B.           276          276     2 2013-04-05 08:49:41   \n",
       "2     James M.           287          287     3 2014-04-04 08:28:23   \n",
       "3       Tom B.           288          288     4 2014-04-04 08:28:26   \n",
       "4   Corrado C.           290          290     5 2014-04-04 08:28:25   \n",
       "\n",
       "       start_date_local  segment  Year  Month  Day    ...      \\\n",
       "0  2013-04-05T10:49:39Z  2390852  2013      4    5    ...       \n",
       "1  2013-04-05T10:49:41Z  2390852  2013      4    5    ...       \n",
       "2  2014-04-04T10:28:23Z  2390852  2014      4    4    ...       \n",
       "3  2014-04-04T10:28:26Z  2390852  2014      4    4    ...       \n",
       "4  2014-04-04T10:28:25Z  2390852  2014      4    4    ...       \n",
       "\n",
       "   climb_category_desc  distance  elev_difference        name resource_state  \\\n",
       "0                    4    2069.3            107.4  San Martin              2   \n",
       "1                    4    2069.3            107.4  San Martin              2   \n",
       "2                    4    2069.3            107.4  San Martin              2   \n",
       "3                    4    2069.3            107.4  San Martin              2   \n",
       "4                    4    2069.3            107.4  San Martin              2   \n",
       "\n",
       "   starred      s_lat      s_lng      e_lat      e_lng  \n",
       "0    False  35.940484  14.376255  35.927646  14.377224  \n",
       "1    False  35.940484  14.376255  35.927646  14.377224  \n",
       "2    False  35.940484  14.376255  35.927646  14.377224  \n",
       "3    False  35.940484  14.376255  35.927646  14.377224  \n",
       "4    False  35.940484  14.376255  35.927646  14.377224  \n",
       "\n",
       "[5 rows x 24 columns]"
      ]
     },
     "execution_count": 32,
     "metadata": {},
     "output_type": "execute_result"
    }
   ],
   "source": [
    "activities_parsed.head()"
   ]
  },
  {
   "cell_type": "code",
   "execution_count": 33,
   "metadata": {
    "_uuid": "c7bbd65fa72e73b42966632cc75f56e2dcad3987",
    "collapsed": true
   },
   "outputs": [],
   "source": [
    "activities_parsed.to_csv(path_or_buf=\"../dataset/activities-italy-full-preprocessed.csv\", index=False)"
   ]
  }
 ],
 "metadata": {
  "kernelspec": {
   "display_name": "Python 3",
   "language": "python",
   "name": "python3"
  },
  "language_info": {
   "codemirror_mode": {
    "name": "ipython",
    "version": 3
   },
   "file_extension": ".py",
   "mimetype": "text/x-python",
   "name": "python",
   "nbconvert_exporter": "python",
   "pygments_lexer": "ipython3",
   "version": "3.6.2"
  }
 },
 "nbformat": 4,
 "nbformat_minor": 1
}
