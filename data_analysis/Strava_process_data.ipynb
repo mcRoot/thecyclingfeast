{
 "cells": [
  {
   "cell_type": "code",
   "execution_count": 82,
   "metadata": {
    "_uuid": "782d8c6c46116592b18d1a584bd50ef3d92cc13c",
    "collapsed": true
   },
   "outputs": [],
   "source": [
    "import pandas as pd\n",
    "import matplotlib.pyplot as plt\n",
    "import numpy as np\n",
    "from datetime import datetime\n",
    "import time"
   ]
  },
  {
   "cell_type": "code",
   "execution_count": 98,
   "metadata": {
    "collapsed": true
   },
   "outputs": [],
   "source": [
    "strava_foundation_date = datetime.strptime(\"2009-01-01\", \"%Y-%m-%d\")"
   ]
  },
  {
   "cell_type": "code",
   "execution_count": 56,
   "metadata": {
    "_uuid": "0df266e357f60e5cc2acb4a40418652c26fec7dd",
    "collapsed": true
   },
   "outputs": [],
   "source": [
    "segments = pd.read_csv(\"../dataset/strava-segments-italy_only-FINAL-GEOCODED.csv\")"
   ]
  },
  {
   "cell_type": "code",
   "execution_count": 57,
   "metadata": {
    "_uuid": "89b84561c54d63382971ae093de0afde422a00a8",
    "collapsed": true
   },
   "outputs": [],
   "source": [
    "segments[[\"s_lat\", \"s_lng\"]] = segments[\"start_latlng\"].apply(lambda x: pd.Series(np.array(eval(x))))"
   ]
  },
  {
   "cell_type": "code",
   "execution_count": 58,
   "metadata": {
    "_uuid": "a66ac8e033e1d7e5a11af8cca0e862a3334060c6",
    "collapsed": true
   },
   "outputs": [],
   "source": [
    "segments[[\"e_lat\", \"e_lng\"]] = segments[\"end_latlng\"].apply(lambda x: pd.Series(np.array(eval(x))))"
   ]
  },
  {
   "cell_type": "code",
   "execution_count": 59,
   "metadata": {
    "collapsed": true
   },
   "outputs": [],
   "source": [
    "segments = segments.drop(columns=[\"start_latlng\", \"end_latlng\"])"
   ]
  },
  {
   "cell_type": "code",
   "execution_count": 60,
   "metadata": {
    "collapsed": true
   },
   "outputs": [],
   "source": [
    "segments.drop(\"Unnamed: 0\", axis=1, inplace=True)"
   ]
  },
  {
   "cell_type": "code",
   "execution_count": 61,
   "metadata": {
    "collapsed": true
   },
   "outputs": [],
   "source": [
    "segments.to_csv(path_or_buf=\"../dataset/segments-italy-PREPROCESSED.csv\", index=True)"
   ]
  },
  {
   "cell_type": "code",
   "execution_count": 62,
   "metadata": {
    "_uuid": "74efa12e981a334615097aeeef07bac9a09370d5",
    "collapsed": true
   },
   "outputs": [],
   "source": [
    "activities = pd.read_csv(\"../dataset/strava-activities-italy-full-FINAL.csv\")"
   ]
  },
  {
   "cell_type": "code",
   "execution_count": 63,
   "metadata": {
    "_uuid": "00286953128cc47df85540a96bd574bfc44aed26",
    "collapsed": true
   },
   "outputs": [],
   "source": [
    "activities.drop(\"Unnamed: 0\", axis=1, inplace=True)\n",
    "activities.drop(\"Unnamed: 0.1\", axis=1, inplace=True)"
   ]
  },
  {
   "cell_type": "code",
   "execution_count": 64,
   "metadata": {
    "_uuid": "6811db0263c87d926ca9979aefd4bdc954bd620d",
    "collapsed": true
   },
   "outputs": [],
   "source": [
    "activities = activities.dropna()"
   ]
  },
  {
   "cell_type": "code",
   "execution_count": 65,
   "metadata": {
    "_uuid": "1698ff0ebdd02295bc598ae68a033092f2db03be",
    "collapsed": true
   },
   "outputs": [],
   "source": [
    "activities[\"segment\"] = activities[\"segment\"].astype(int, copy=True)"
   ]
  },
  {
   "cell_type": "code",
   "execution_count": 66,
   "metadata": {
    "_uuid": "10ca07b3428dd24d1f3dce1822959822a9e82443"
   },
   "outputs": [
    {
     "data": {
      "text/plain": [
       "Series([], Name: start_date, dtype: object)"
      ]
     },
     "execution_count": 66,
     "metadata": {},
     "output_type": "execute_result"
    }
   ],
   "source": [
    "activities[activities[\"start_date\"].isnull()][\"start_date\"]"
   ]
  },
  {
   "cell_type": "code",
   "execution_count": 67,
   "metadata": {
    "collapsed": true
   },
   "outputs": [],
   "source": [
    "indexes_with_wrong_dates = activities[activities[\"start_date\"].str.match(r\"[234][1-9]\\d\\d-*\")].index"
   ]
  },
  {
   "cell_type": "code",
   "execution_count": 68,
   "metadata": {
    "collapsed": true
   },
   "outputs": [],
   "source": [
    "activities.drop(indexes_with_wrong_dates, inplace=True)"
   ]
  },
  {
   "cell_type": "code",
   "execution_count": 69,
   "metadata": {
    "collapsed": true
   },
   "outputs": [],
   "source": [
    "indexes_with_wrong_dates = activities[activities[\"start_date\"].str.match(r\"[4]\\d\\d\\d-*\")].index"
   ]
  },
  {
   "cell_type": "code",
   "execution_count": 70,
   "metadata": {
    "collapsed": true
   },
   "outputs": [],
   "source": [
    "activities.drop(indexes_with_wrong_dates, inplace=True)"
   ]
  },
  {
   "cell_type": "code",
   "execution_count": 71,
   "metadata": {
    "collapsed": true
   },
   "outputs": [],
   "source": [
    "activities[\"start_date\"] = pd.to_datetime(activities[\"start_date\"])"
   ]
  },
  {
   "cell_type": "code",
   "execution_count": 72,
   "metadata": {
    "collapsed": true
   },
   "outputs": [],
   "source": [
    " activities[\"Year\"] = activities[\"start_date\"].dt.year"
   ]
  },
  {
   "cell_type": "code",
   "execution_count": 73,
   "metadata": {
    "collapsed": true
   },
   "outputs": [],
   "source": [
    " activities[\"Month\"] = activities[\"start_date\"].dt.month"
   ]
  },
  {
   "cell_type": "code",
   "execution_count": 74,
   "metadata": {
    "collapsed": true
   },
   "outputs": [],
   "source": [
    " activities[\"Day\"] = activities[\"start_date\"].dt.day"
   ]
  },
  {
   "cell_type": "code",
   "execution_count": 75,
   "metadata": {
    "collapsed": true
   },
   "outputs": [],
   "source": [
    " activities[\"Dow\"] = activities[\"start_date\"].dt.dayofweek"
   ]
  },
  {
   "cell_type": "markdown",
   "metadata": {},
   "source": [
    "Removing impossible-date activities: future dates as well as dates for activities prior to Strava launch (even though these may be legal, but we expect to be a unrelevant figure)"
   ]
  },
  {
   "cell_type": "code",
   "execution_count": 88,
   "metadata": {},
   "outputs": [],
   "source": [
    "index_activities_future_dates = activities[activities.start_date > datetime.now()].index"
   ]
  },
  {
   "cell_type": "code",
   "execution_count": 89,
   "metadata": {},
   "outputs": [],
   "source": [
    "activities.drop(index_activities_future_dates, inplace=True)"
   ]
  },
  {
   "cell_type": "code",
   "execution_count": 99,
   "metadata": {},
   "outputs": [],
   "source": [
    "index_activities_prior_foundation_date = activities[activities.start_date < strava_foundation_date].index"
   ]
  },
  {
   "cell_type": "code",
   "execution_count": 100,
   "metadata": {
    "collapsed": true
   },
   "outputs": [],
   "source": [
    "activities.drop(index_activities_prior_foundation_date, inplace=True)"
   ]
  },
  {
   "cell_type": "code",
   "execution_count": 103,
   "metadata": {
    "_uuid": "0d854a86524b503194511465507114070c69d35f"
   },
   "outputs": [],
   "source": [
    "activities_parsed = pd.merge(activities, segments, left_on=\"segment\", right_on=\"id\").drop([\"id\", \"points\"], axis=1)"
   ]
  },
  {
   "cell_type": "code",
   "execution_count": 107,
   "metadata": {
    "_uuid": "c7bbd65fa72e73b42966632cc75f56e2dcad3987",
    "collapsed": true
   },
   "outputs": [],
   "source": [
    "activities_parsed.to_csv(path_or_buf=\"../dataset/activities-italy-PREPROCESSED.csv\", index=False)"
   ]
  }
 ],
 "metadata": {
  "kernelspec": {
   "display_name": "Python 3",
   "language": "python",
   "name": "python3"
  },
  "language_info": {
   "codemirror_mode": {
    "name": "ipython",
    "version": 3
   },
   "file_extension": ".py",
   "mimetype": "text/x-python",
   "name": "python",
   "nbconvert_exporter": "python",
   "pygments_lexer": "ipython3",
   "version": "3.6.2"
  }
 },
 "nbformat": 4,
 "nbformat_minor": 1
}
