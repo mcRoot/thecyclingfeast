{
 "cells": [
  {
   "cell_type": "code",
   "execution_count": 1,
   "metadata": {
    "_uuid": "782d8c6c46116592b18d1a584bd50ef3d92cc13c",
    "collapsed": true
   },
   "outputs": [],
   "source": [
    "import pandas as pd\n",
    "import matplotlib.pyplot as plt\n",
    "import numpy as np\n",
    "from datetime import datetime"
   ]
  },
  {
   "cell_type": "code",
   "execution_count": 3,
   "metadata": {
    "_uuid": "0df266e357f60e5cc2acb4a40418652c26fec7dd",
    "collapsed": true
   },
   "outputs": [],
   "source": [
    "segments = pd.read_csv(\"./dataset/strava-segments.csv\")"
   ]
  },
  {
   "cell_type": "code",
   "execution_count": 4,
   "metadata": {
    "_uuid": "89b84561c54d63382971ae093de0afde422a00a8",
    "collapsed": true
   },
   "outputs": [],
   "source": [
    "segments[[\"s_lat\", \"s_lng\"]] = segments[\"start_latlng\"].apply(lambda x: pd.Series(np.array(eval(x))))"
   ]
  },
  {
   "cell_type": "code",
   "execution_count": 5,
   "metadata": {
    "_uuid": "a66ac8e033e1d7e5a11af8cca0e862a3334060c6",
    "collapsed": true
   },
   "outputs": [],
   "source": [
    "segments[[\"e_lat\", \"e_lng\"]] = segments[\"end_latlng\"].apply(lambda x: pd.Series(np.array(eval(x))))"
   ]
  },
  {
   "cell_type": "code",
   "execution_count": 35,
   "metadata": {
    "_uuid": "74efa12e981a334615097aeeef07bac9a09370d5",
    "collapsed": true
   },
   "outputs": [],
   "source": [
    "activities = pd.DataFrame()\n",
    "for i in range(1, 7):\n",
    "    activities = activities.append(pd.read_csv(\"strava-activities-{}.csv\".format(i)), ignore_index=True)"
   ]
  },
  {
   "cell_type": "code",
   "execution_count": 36,
   "metadata": {
    "_uuid": "00286953128cc47df85540a96bd574bfc44aed26",
    "collapsed": true
   },
   "outputs": [],
   "source": [
    "activities.drop(\"Unnamed: 0\", axis=1, inplace=True)"
   ]
  },
  {
   "cell_type": "code",
   "execution_count": 37,
   "metadata": {
    "_uuid": "6811db0263c87d926ca9979aefd4bdc954bd620d",
    "collapsed": true
   },
   "outputs": [],
   "source": [
    "activities = activities.dropna()"
   ]
  },
  {
   "cell_type": "code",
   "execution_count": 38,
   "metadata": {
    "_uuid": "1698ff0ebdd02295bc598ae68a033092f2db03be",
    "collapsed": true
   },
   "outputs": [],
   "source": [
    "activities[\"segment\"] = activities[\"segment\"].astype(int, copy=False)"
   ]
  },
  {
   "cell_type": "code",
   "execution_count": 39,
   "metadata": {
    "_uuid": "10ca07b3428dd24d1f3dce1822959822a9e82443"
   },
   "outputs": [
    {
     "data": {
      "text/plain": [
       "Series([], Name: start_date, dtype: object)"
      ]
     },
     "execution_count": 39,
     "metadata": {},
     "output_type": "execute_result"
    }
   ],
   "source": [
    "activities[activities[\"start_date\"].isnull()][\"start_date\"]"
   ]
  },
  {
   "cell_type": "code",
   "execution_count": 40,
   "metadata": {
    "_uuid": "d46976e483f494f3a5eec5e9973a342a00038c7f",
    "collapsed": true
   },
   "outputs": [],
   "source": [
    "def extract_year(strdate):\n",
    "    dt = datetime.strptime(strdate, '%Y-%m-%dT%H:%M:%SZ')\n",
    "    return dt.year"
   ]
  },
  {
   "cell_type": "code",
   "execution_count": 41,
   "metadata": {
    "_uuid": "4b5846808a53ad42b798cd24092877a603bcd950",
    "collapsed": true
   },
   "outputs": [],
   "source": [
    " activities[\"Year\"] = activities[\"start_date\"].apply(lambda x: pd.Series(extract_year(x)))"
   ]
  },
  {
   "cell_type": "code",
   "execution_count": 42,
   "metadata": {},
   "outputs": [
    {
     "data": {
      "text/html": [
       "<div>\n",
       "<style scoped>\n",
       "    .dataframe tbody tr th:only-of-type {\n",
       "        vertical-align: middle;\n",
       "    }\n",
       "\n",
       "    .dataframe tbody tr th {\n",
       "        vertical-align: top;\n",
       "    }\n",
       "\n",
       "    .dataframe thead th {\n",
       "        text-align: right;\n",
       "    }\n",
       "</style>\n",
       "<table border=\"1\" class=\"dataframe\">\n",
       "  <thead>\n",
       "    <tr style=\"text-align: right;\">\n",
       "      <th></th>\n",
       "      <th>athlete_name</th>\n",
       "      <th>elapsed_time</th>\n",
       "      <th>moving_time</th>\n",
       "      <th>rank</th>\n",
       "      <th>segment</th>\n",
       "      <th>start_date</th>\n",
       "      <th>start_date_local</th>\n",
       "      <th>Year</th>\n",
       "    </tr>\n",
       "  </thead>\n",
       "  <tbody>\n",
       "    <tr>\n",
       "      <th>0</th>\n",
       "      <td>Tiziano L.</td>\n",
       "      <td>303.0</td>\n",
       "      <td>303.0</td>\n",
       "      <td>1.0</td>\n",
       "      <td>8901694</td>\n",
       "      <td>2017-03-03T14:40:08Z</td>\n",
       "      <td>2017-03-03T15:40:08Z</td>\n",
       "      <td>2017</td>\n",
       "    </tr>\n",
       "    <tr>\n",
       "      <th>1</th>\n",
       "      <td>Fabianelli R.</td>\n",
       "      <td>324.0</td>\n",
       "      <td>324.0</td>\n",
       "      <td>2.0</td>\n",
       "      <td>8901694</td>\n",
       "      <td>2015-12-20T10:06:44Z</td>\n",
       "      <td>2015-12-20T11:06:44Z</td>\n",
       "      <td>2015</td>\n",
       "    </tr>\n",
       "    <tr>\n",
       "      <th>2</th>\n",
       "      <td>Aldo B.</td>\n",
       "      <td>338.0</td>\n",
       "      <td>338.0</td>\n",
       "      <td>3.0</td>\n",
       "      <td>8901694</td>\n",
       "      <td>2015-12-20T10:11:17Z</td>\n",
       "      <td>2015-12-20T11:11:17Z</td>\n",
       "      <td>2015</td>\n",
       "    </tr>\n",
       "    <tr>\n",
       "      <th>3</th>\n",
       "      <td>Francesco V.</td>\n",
       "      <td>341.0</td>\n",
       "      <td>341.0</td>\n",
       "      <td>4.0</td>\n",
       "      <td>8901694</td>\n",
       "      <td>2015-12-13T09:32:11Z</td>\n",
       "      <td>2015-12-13T10:32:11Z</td>\n",
       "      <td>2015</td>\n",
       "    </tr>\n",
       "    <tr>\n",
       "      <th>4</th>\n",
       "      <td>Giulio C.</td>\n",
       "      <td>360.0</td>\n",
       "      <td>360.0</td>\n",
       "      <td>5.0</td>\n",
       "      <td>8901694</td>\n",
       "      <td>2014-12-11T14:55:10Z</td>\n",
       "      <td>2014-12-11T15:55:10Z</td>\n",
       "      <td>2014</td>\n",
       "    </tr>\n",
       "  </tbody>\n",
       "</table>\n",
       "</div>"
      ],
      "text/plain": [
       "    athlete_name  elapsed_time  moving_time  rank  segment  \\\n",
       "0     Tiziano L.         303.0        303.0   1.0  8901694   \n",
       "1  Fabianelli R.         324.0        324.0   2.0  8901694   \n",
       "2        Aldo B.         338.0        338.0   3.0  8901694   \n",
       "3   Francesco V.         341.0        341.0   4.0  8901694   \n",
       "4      Giulio C.         360.0        360.0   5.0  8901694   \n",
       "\n",
       "             start_date      start_date_local  Year  \n",
       "0  2017-03-03T14:40:08Z  2017-03-03T15:40:08Z  2017  \n",
       "1  2015-12-20T10:06:44Z  2015-12-20T11:06:44Z  2015  \n",
       "2  2015-12-20T10:11:17Z  2015-12-20T11:11:17Z  2015  \n",
       "3  2015-12-13T09:32:11Z  2015-12-13T10:32:11Z  2015  \n",
       "4  2014-12-11T14:55:10Z  2014-12-11T15:55:10Z  2014  "
      ]
     },
     "execution_count": 42,
     "metadata": {},
     "output_type": "execute_result"
    }
   ],
   "source": [
    "activities.head()"
   ]
  },
  {
   "cell_type": "code",
   "execution_count": 43,
   "metadata": {
    "_uuid": "59c310b337213210997f6fdb09389f9b77f826bc",
    "collapsed": true
   },
   "outputs": [],
   "source": [
    "def extract_month(strdate):\n",
    "    dt = datetime.strptime(strdate, '%Y-%m-%dT%H:%M:%SZ')\n",
    "    return dt.month"
   ]
  },
  {
   "cell_type": "code",
   "execution_count": 44,
   "metadata": {
    "_uuid": "42c46e6ab02d68fa611c82b2f6457179065dd93e",
    "collapsed": true
   },
   "outputs": [],
   "source": [
    "activities[\"Month\"] = activities[\"start_date\"].apply(lambda x: pd.Series(extract_month(x)))"
   ]
  },
  {
   "cell_type": "code",
   "execution_count": 45,
   "metadata": {
    "_uuid": "0d854a86524b503194511465507114070c69d35f",
    "collapsed": true
   },
   "outputs": [],
   "source": [
    "activities_parsed = pd.merge(activities, segments, left_on=\"segment\", right_on=\"id\").drop([\"id\", \"id.1\", \"points\", \"start_latlng\", \"end_latlng\"], axis=1)"
   ]
  },
  {
   "cell_type": "code",
   "execution_count": 46,
   "metadata": {
    "_uuid": "c7bbd65fa72e73b42966632cc75f56e2dcad3987",
    "collapsed": true
   },
   "outputs": [],
   "source": [
    "activities_parsed.to_csv(path_or_buf=\"activities-parsed.csv\", index=False)"
   ]
  },
  {
   "cell_type": "code",
   "execution_count": 47,
   "metadata": {
    "_uuid": "ea4f321e9bc6dcb2dc3f2f85488c5d70701111a7"
   },
   "outputs": [
    {
     "data": {
      "text/html": [
       "<div>\n",
       "<style scoped>\n",
       "    .dataframe tbody tr th:only-of-type {\n",
       "        vertical-align: middle;\n",
       "    }\n",
       "\n",
       "    .dataframe tbody tr th {\n",
       "        vertical-align: top;\n",
       "    }\n",
       "\n",
       "    .dataframe thead th {\n",
       "        text-align: right;\n",
       "    }\n",
       "</style>\n",
       "<table border=\"1\" class=\"dataframe\">\n",
       "  <thead>\n",
       "    <tr style=\"text-align: right;\">\n",
       "      <th></th>\n",
       "      <th>athlete_name</th>\n",
       "      <th>elapsed_time</th>\n",
       "      <th>moving_time</th>\n",
       "      <th>rank</th>\n",
       "      <th>segment</th>\n",
       "      <th>start_date</th>\n",
       "      <th>start_date_local</th>\n",
       "      <th>Year</th>\n",
       "      <th>Month</th>\n",
       "      <th>avg_grade</th>\n",
       "      <th>...</th>\n",
       "      <th>climb_category_desc</th>\n",
       "      <th>distance</th>\n",
       "      <th>elev_difference</th>\n",
       "      <th>name</th>\n",
       "      <th>resource_state</th>\n",
       "      <th>starred</th>\n",
       "      <th>s_lat</th>\n",
       "      <th>s_lng</th>\n",
       "      <th>e_lat</th>\n",
       "      <th>e_lng</th>\n",
       "    </tr>\n",
       "  </thead>\n",
       "  <tbody>\n",
       "    <tr>\n",
       "      <th>0</th>\n",
       "      <td>Tiziano L.</td>\n",
       "      <td>303.0</td>\n",
       "      <td>303.0</td>\n",
       "      <td>1.0</td>\n",
       "      <td>8901694</td>\n",
       "      <td>2017-03-03T14:40:08Z</td>\n",
       "      <td>2017-03-03T15:40:08Z</td>\n",
       "      <td>2017</td>\n",
       "      <td>3</td>\n",
       "      <td>7.2</td>\n",
       "      <td>...</td>\n",
       "      <td>4</td>\n",
       "      <td>1218.2</td>\n",
       "      <td>99.0</td>\n",
       "      <td>sopra lago</td>\n",
       "      <td>2</td>\n",
       "      <td>False</td>\n",
       "      <td>43.019921</td>\n",
       "      <td>11.213783</td>\n",
       "      <td>43.024506</td>\n",
       "      <td>11.207448</td>\n",
       "    </tr>\n",
       "    <tr>\n",
       "      <th>1</th>\n",
       "      <td>Fabianelli R.</td>\n",
       "      <td>324.0</td>\n",
       "      <td>324.0</td>\n",
       "      <td>2.0</td>\n",
       "      <td>8901694</td>\n",
       "      <td>2015-12-20T10:06:44Z</td>\n",
       "      <td>2015-12-20T11:06:44Z</td>\n",
       "      <td>2015</td>\n",
       "      <td>12</td>\n",
       "      <td>7.2</td>\n",
       "      <td>...</td>\n",
       "      <td>4</td>\n",
       "      <td>1218.2</td>\n",
       "      <td>99.0</td>\n",
       "      <td>sopra lago</td>\n",
       "      <td>2</td>\n",
       "      <td>False</td>\n",
       "      <td>43.019921</td>\n",
       "      <td>11.213783</td>\n",
       "      <td>43.024506</td>\n",
       "      <td>11.207448</td>\n",
       "    </tr>\n",
       "    <tr>\n",
       "      <th>2</th>\n",
       "      <td>Aldo B.</td>\n",
       "      <td>338.0</td>\n",
       "      <td>338.0</td>\n",
       "      <td>3.0</td>\n",
       "      <td>8901694</td>\n",
       "      <td>2015-12-20T10:11:17Z</td>\n",
       "      <td>2015-12-20T11:11:17Z</td>\n",
       "      <td>2015</td>\n",
       "      <td>12</td>\n",
       "      <td>7.2</td>\n",
       "      <td>...</td>\n",
       "      <td>4</td>\n",
       "      <td>1218.2</td>\n",
       "      <td>99.0</td>\n",
       "      <td>sopra lago</td>\n",
       "      <td>2</td>\n",
       "      <td>False</td>\n",
       "      <td>43.019921</td>\n",
       "      <td>11.213783</td>\n",
       "      <td>43.024506</td>\n",
       "      <td>11.207448</td>\n",
       "    </tr>\n",
       "    <tr>\n",
       "      <th>3</th>\n",
       "      <td>Francesco V.</td>\n",
       "      <td>341.0</td>\n",
       "      <td>341.0</td>\n",
       "      <td>4.0</td>\n",
       "      <td>8901694</td>\n",
       "      <td>2015-12-13T09:32:11Z</td>\n",
       "      <td>2015-12-13T10:32:11Z</td>\n",
       "      <td>2015</td>\n",
       "      <td>12</td>\n",
       "      <td>7.2</td>\n",
       "      <td>...</td>\n",
       "      <td>4</td>\n",
       "      <td>1218.2</td>\n",
       "      <td>99.0</td>\n",
       "      <td>sopra lago</td>\n",
       "      <td>2</td>\n",
       "      <td>False</td>\n",
       "      <td>43.019921</td>\n",
       "      <td>11.213783</td>\n",
       "      <td>43.024506</td>\n",
       "      <td>11.207448</td>\n",
       "    </tr>\n",
       "    <tr>\n",
       "      <th>4</th>\n",
       "      <td>Giulio C.</td>\n",
       "      <td>360.0</td>\n",
       "      <td>360.0</td>\n",
       "      <td>5.0</td>\n",
       "      <td>8901694</td>\n",
       "      <td>2014-12-11T14:55:10Z</td>\n",
       "      <td>2014-12-11T15:55:10Z</td>\n",
       "      <td>2014</td>\n",
       "      <td>12</td>\n",
       "      <td>7.2</td>\n",
       "      <td>...</td>\n",
       "      <td>4</td>\n",
       "      <td>1218.2</td>\n",
       "      <td>99.0</td>\n",
       "      <td>sopra lago</td>\n",
       "      <td>2</td>\n",
       "      <td>False</td>\n",
       "      <td>43.019921</td>\n",
       "      <td>11.213783</td>\n",
       "      <td>43.024506</td>\n",
       "      <td>11.207448</td>\n",
       "    </tr>\n",
       "  </tbody>\n",
       "</table>\n",
       "<p>5 rows × 21 columns</p>\n",
       "</div>"
      ],
      "text/plain": [
       "    athlete_name  elapsed_time  moving_time  rank  segment  \\\n",
       "0     Tiziano L.         303.0        303.0   1.0  8901694   \n",
       "1  Fabianelli R.         324.0        324.0   2.0  8901694   \n",
       "2        Aldo B.         338.0        338.0   3.0  8901694   \n",
       "3   Francesco V.         341.0        341.0   4.0  8901694   \n",
       "4      Giulio C.         360.0        360.0   5.0  8901694   \n",
       "\n",
       "             start_date      start_date_local  Year  Month  avg_grade  \\\n",
       "0  2017-03-03T14:40:08Z  2017-03-03T15:40:08Z  2017      3        7.2   \n",
       "1  2015-12-20T10:06:44Z  2015-12-20T11:06:44Z  2015     12        7.2   \n",
       "2  2015-12-20T10:11:17Z  2015-12-20T11:11:17Z  2015     12        7.2   \n",
       "3  2015-12-13T09:32:11Z  2015-12-13T10:32:11Z  2015     12        7.2   \n",
       "4  2014-12-11T14:55:10Z  2014-12-11T15:55:10Z  2014     12        7.2   \n",
       "\n",
       "     ...      climb_category_desc distance  elev_difference        name  \\\n",
       "0    ...                        4   1218.2             99.0  sopra lago   \n",
       "1    ...                        4   1218.2             99.0  sopra lago   \n",
       "2    ...                        4   1218.2             99.0  sopra lago   \n",
       "3    ...                        4   1218.2             99.0  sopra lago   \n",
       "4    ...                        4   1218.2             99.0  sopra lago   \n",
       "\n",
       "  resource_state  starred      s_lat      s_lng      e_lat      e_lng  \n",
       "0              2    False  43.019921  11.213783  43.024506  11.207448  \n",
       "1              2    False  43.019921  11.213783  43.024506  11.207448  \n",
       "2              2    False  43.019921  11.213783  43.024506  11.207448  \n",
       "3              2    False  43.019921  11.213783  43.024506  11.207448  \n",
       "4              2    False  43.019921  11.213783  43.024506  11.207448  \n",
       "\n",
       "[5 rows x 21 columns]"
      ]
     },
     "execution_count": 47,
     "metadata": {},
     "output_type": "execute_result"
    }
   ],
   "source": [
    "activities_parsed.head()"
   ]
  },
  {
   "cell_type": "code",
   "execution_count": null,
   "metadata": {
    "collapsed": true
   },
   "outputs": [],
   "source": []
  }
 ],
 "metadata": {
  "kernelspec": {
   "display_name": "Python 3",
   "language": "python",
   "name": "python3"
  },
  "language_info": {
   "codemirror_mode": {
    "name": "ipython",
    "version": 3
   },
   "file_extension": ".py",
   "mimetype": "text/x-python",
   "name": "python",
   "nbconvert_exporter": "python",
   "pygments_lexer": "ipython3",
   "version": "3.6.2"
  }
 },
 "nbformat": 4,
 "nbformat_minor": 1
}
